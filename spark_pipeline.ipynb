{
 "cells": [
  {
   "cell_type": "code",
   "execution_count": 27,
   "id": "2ad47742-8c2c-41ce-8f16-f5b3567eee95",
   "metadata": {},
   "outputs": [],
   "source": [
    "import findspark\n",
    "findspark.init()\n",
    "\n",
    "from pyspark.sql import SparkSession\n",
    "from pyspark.sql.functions import lit, floor, rand, col, round\n",
    "\n",
    "spark = SparkSession.builder \\\n",
    "    .appName(\"Notebook Spark Session\") \\\n",
    "    .getOrCreate()\n",
    "\n",
    "spark.sparkContext.setLogLevel(\"WARN\")  # or INFO, ERROR, etc.\n",
    "    \n"
   ]
  },
  {
   "cell_type": "code",
   "execution_count": 8,
   "id": "28677348-0978-4d90-a9b9-303b9f21ae65",
   "metadata": {},
   "outputs": [
    {
     "name": "stdout",
     "output_type": "stream",
     "text": [
      "+----------+----------------+-----------------+\n",
      "|patient_id|appointment_date|           doctor|\n",
      "+----------+----------------+-----------------+\n",
      "|       236|      2024-05-17|     Morgan Baker|\n",
      "|       225|      2024-08-03|   Vincent Wright|\n",
      "|       831|      2024-07-19|      Joshua Ford|\n",
      "|       116|      2024-03-02|    Michelle Hill|\n",
      "|       433|      2024-01-17|       Kari Morse|\n",
      "|       287|      2024-08-19|      Oscar Baker|\n",
      "|       729|      2024-07-15|   George Estrada|\n",
      "|       554|      2024-05-09|      James Baker|\n",
      "|        90|      2024-05-07|    Vickie Obrien|\n",
      "|       277|      2024-02-14|   Jennifer Silva|\n",
      "|       261|      2024-08-23|     Andrew Brown|\n",
      "|       510|      2024-03-06|      Trevor Hall|\n",
      "|       898|      2024-05-23|   Dorothy Obrien|\n",
      "|       534|      2024-06-17|   Nicole Terrell|\n",
      "|       562|      2024-03-18|  Rebecca Ramirez|\n",
      "|       343|      2024-05-02|     Denise Walsh|\n",
      "|       566|      2024-03-19|       Nancy Ford|\n",
      "|       447|      2024-07-08|       Joshua Ali|\n",
      "|       780|      2024-09-07|Kathryn Rodriguez|\n",
      "|       745|      2024-02-26|    Zachary Young|\n",
      "+----------+----------------+-----------------+\n",
      "only showing top 20 rows\n",
      "\n"
     ]
    }
   ],
   "source": [
    "\n",
    "# Read the CSV files\n",
    "appointments_df = spark.read.csv('sample_data/appointment_data.csv', header=True, inferSchema=True)\n",
    "appointments_df.show()"
   ]
  },
  {
   "cell_type": "code",
   "execution_count": 9,
   "id": "a351cb0b-68ae-4782-8b4e-e807040223b6",
   "metadata": {},
   "outputs": [
    {
     "name": "stdout",
     "output_type": "stream",
     "text": [
      "+----------+----------------+------------------+\n",
      "|patient_id|appointment_date|            doctor|\n",
      "+----------+----------------+------------------+\n",
      "|         3|      2024-05-12|  Kristina Collins|\n",
      "|         4|      2024-08-17|     Felicia Moore|\n",
      "|         5|      2024-03-20|  Eugene Wilson MD|\n",
      "|         5|      2024-05-08|      Jason Taylor|\n",
      "|         6|      2024-08-23|    Jessica Martin|\n",
      "|         8|      2024-01-18|       Erin Castro|\n",
      "|        10|      2024-09-08|        Mary Ortiz|\n",
      "|        11|      2024-04-17|Sherri Fitzpatrick|\n",
      "|        12|      2024-01-03|  Richard Martinez|\n",
      "|        12|      2024-07-04|         Joy Price|\n",
      "|        16|      2024-04-26|        Stacy Leon|\n",
      "|        17|      2024-08-24|  Cheyenne Watkins|\n",
      "|        17|      2024-04-06|        Ryan Davis|\n",
      "|        17|      2024-07-02|  Joshua Rodriguez|\n",
      "|        18|      2024-03-29|  Kristine Robbins|\n",
      "|        18|      2024-06-26|    Matthew Lawson|\n",
      "|        19|      2024-01-08|      Julia Lawson|\n",
      "|        20|      2024-04-30|        Rose Bruce|\n",
      "|        20|      2024-03-27|       Becky Scott|\n",
      "|        21|      2024-02-09|    Scott Mcdowell|\n",
      "+----------+----------------+------------------+\n",
      "only showing top 20 rows\n",
      "\n"
     ]
    }
   ],
   "source": [
    "sorted_df = appointments_df.orderBy('patient_id')\n",
    "sorted_df.show()"
   ]
  },
  {
   "cell_type": "code",
   "execution_count": 14,
   "id": "eaacad02-0781-456d-92b6-7a31058431a1",
   "metadata": {},
   "outputs": [
    {
     "name": "stdout",
     "output_type": "stream",
     "text": [
      "+----------+----------------+------------------+-----+\n",
      "|patient_id|appointment_date|            doctor|hours|\n",
      "+----------+----------------+------------------+-----+\n",
      "|         3|      2024-05-12|  Kristina Collins|   20|\n",
      "|         4|      2024-08-17|     Felicia Moore|   20|\n",
      "|         5|      2024-03-20|  Eugene Wilson MD|   20|\n",
      "|         5|      2024-05-08|      Jason Taylor|   20|\n",
      "|         6|      2024-08-23|    Jessica Martin|   20|\n",
      "|         8|      2024-01-18|       Erin Castro|   20|\n",
      "|        10|      2024-09-08|        Mary Ortiz|   20|\n",
      "|        11|      2024-04-17|Sherri Fitzpatrick|   20|\n",
      "|        12|      2024-01-03|  Richard Martinez|   20|\n",
      "|        12|      2024-07-04|         Joy Price|   20|\n",
      "+----------+----------------+------------------+-----+\n",
      "only showing top 10 rows\n",
      "\n"
     ]
    }
   ],
   "source": [
    "sorted_df = sorted_df.withColumn('hours', lit(20))\n",
    "sorted_df.show(10)"
   ]
  },
  {
   "cell_type": "code",
   "execution_count": 20,
   "id": "722f8429-fc7d-4422-832e-c35b90a869a4",
   "metadata": {},
   "outputs": [
    {
     "name": "stdout",
     "output_type": "stream",
     "text": [
      "+----------+----------------+------------------+-----+-------------+\n",
      "|patient_id|appointment_date|            doctor|hours|weight_pounds|\n",
      "+----------+----------------+------------------+-----+-------------+\n",
      "|         3|      2024-05-12|  Kristina Collins|   20|          201|\n",
      "|         4|      2024-08-17|     Felicia Moore|   20|          200|\n",
      "|         5|      2024-03-20|  Eugene Wilson MD|   20|          165|\n",
      "|         5|      2024-05-08|      Jason Taylor|   20|          123|\n",
      "|         6|      2024-08-23|    Jessica Martin|   20|          246|\n",
      "|         8|      2024-01-18|       Erin Castro|   20|          163|\n",
      "|        10|      2024-09-08|        Mary Ortiz|   20|          211|\n",
      "|        11|      2024-04-17|Sherri Fitzpatrick|   20|          229|\n",
      "|        12|      2024-01-03|  Richard Martinez|   20|          149|\n",
      "|        12|      2024-07-04|         Joy Price|   20|          140|\n",
      "|        16|      2024-04-26|        Stacy Leon|   20|          177|\n",
      "|        17|      2024-08-24|  Cheyenne Watkins|   20|          128|\n",
      "|        17|      2024-04-06|        Ryan Davis|   20|          201|\n",
      "|        17|      2024-07-02|  Joshua Rodriguez|   20|          200|\n",
      "|        18|      2024-03-29|  Kristine Robbins|   20|          153|\n",
      "|        18|      2024-06-26|    Matthew Lawson|   20|          165|\n",
      "|        19|      2024-01-08|      Julia Lawson|   20|          124|\n",
      "|        20|      2024-03-27|       Becky Scott|   20|          236|\n",
      "|        20|      2024-04-30|        Rose Bruce|   20|          189|\n",
      "|        21|      2024-02-09|    Scott Mcdowell|   20|          142|\n",
      "+----------+----------------+------------------+-----+-------------+\n",
      "only showing top 20 rows\n",
      "\n"
     ]
    }
   ],
   "source": [
    "df_with_weight = sorted_df.withColumn('weight_pounds', floor(rand() * (250 - 120 + 1) + 120))\n",
    "df_with_weight.show(20)"
   ]
  },
  {
   "cell_type": "code",
   "execution_count": 23,
   "id": "842d840e-8e9e-45ce-85f9-218079b9f0c7",
   "metadata": {},
   "outputs": [
    {
     "name": "stdout",
     "output_type": "stream",
     "text": [
      "+----------+----------------+------------------+-----+-------------+---------+\n",
      "|patient_id|appointment_date|            doctor|hours|weight_pounds|height_cm|\n",
      "+----------+----------------+------------------+-----+-------------+---------+\n",
      "|         3|      2024-05-12|  Kristina Collins|   20|          201|      178|\n",
      "|         4|      2024-08-17|     Felicia Moore|   20|          200|      184|\n",
      "|         5|      2024-03-20|  Eugene Wilson MD|   20|          165|      178|\n",
      "|         5|      2024-05-08|      Jason Taylor|   20|          123|      183|\n",
      "|         6|      2024-08-23|    Jessica Martin|   20|          246|      173|\n",
      "|         8|      2024-01-18|       Erin Castro|   20|          163|      171|\n",
      "|        10|      2024-09-08|        Mary Ortiz|   20|          211|      183|\n",
      "|        11|      2024-04-17|Sherri Fitzpatrick|   20|          229|      175|\n",
      "|        12|      2024-01-03|  Richard Martinez|   20|          149|      172|\n",
      "|        12|      2024-07-04|         Joy Price|   20|          140|      197|\n",
      "|        16|      2024-04-26|        Stacy Leon|   20|          177|      183|\n",
      "|        17|      2024-08-24|  Cheyenne Watkins|   20|          128|      200|\n",
      "|        17|      2024-04-06|        Ryan Davis|   20|          201|      189|\n",
      "|        17|      2024-07-02|  Joshua Rodriguez|   20|          200|      196|\n",
      "|        18|      2024-03-29|  Kristine Robbins|   20|          153|      185|\n",
      "|        18|      2024-06-26|    Matthew Lawson|   20|          165|      194|\n",
      "|        19|      2024-01-08|      Julia Lawson|   20|          124|      175|\n",
      "|        20|      2024-03-27|       Becky Scott|   20|          236|      187|\n",
      "|        20|      2024-04-30|        Rose Bruce|   20|          189|      183|\n",
      "|        21|      2024-02-09|    Scott Mcdowell|   20|          142|      179|\n",
      "+----------+----------------+------------------+-----+-------------+---------+\n",
      "only showing top 20 rows\n",
      "\n"
     ]
    }
   ],
   "source": [
    "df_with_height = df_with_weight.withColumn('height_cm', floor(rand() * (200 - 170 + 1) + 170))\n",
    "df_with_height.show(20)"
   ]
  },
  {
   "cell_type": "code",
   "execution_count": 28,
   "id": "f5e84023-b339-4e04-befc-139d7cbdb1ed",
   "metadata": {},
   "outputs": [
    {
     "name": "stdout",
     "output_type": "stream",
     "text": [
      "+----------+----------------+------------------+-----+-------------+---------+-----+\n",
      "|patient_id|appointment_date|            doctor|hours|weight_pounds|height_cm|  bmi|\n",
      "+----------+----------------+------------------+-----+-------------+---------+-----+\n",
      "|         3|      2024-05-12|  Kristina Collins|   20|          201|      178|28.78|\n",
      "|         4|      2024-08-17|     Felicia Moore|   20|          200|      184| 26.8|\n",
      "|         5|      2024-03-20|  Eugene Wilson MD|   20|          165|      178|23.62|\n",
      "|         5|      2024-05-08|      Jason Taylor|   20|          123|      183|16.66|\n",
      "|         6|      2024-08-23|    Jessica Martin|   20|          246|      173|37.28|\n",
      "|         8|      2024-01-18|       Erin Castro|   20|          163|      171|25.28|\n",
      "|        10|      2024-09-08|        Mary Ortiz|   20|          211|      183|28.58|\n",
      "|        11|      2024-04-17|Sherri Fitzpatrick|   20|          229|      175|33.92|\n",
      "|        12|      2024-01-03|  Richard Martinez|   20|          149|      172|22.85|\n",
      "|        12|      2024-07-04|         Joy Price|   20|          140|      197|16.36|\n",
      "|        16|      2024-04-26|        Stacy Leon|   20|          177|      183|23.97|\n",
      "|        17|      2024-08-24|  Cheyenne Watkins|   20|          128|      200|14.51|\n",
      "|        17|      2024-04-06|        Ryan Davis|   20|          201|      189|25.52|\n",
      "|        17|      2024-07-02|  Joshua Rodriguez|   20|          200|      196|23.61|\n",
      "|        18|      2024-03-29|  Kristine Robbins|   20|          153|      185|20.28|\n",
      "|        18|      2024-06-26|    Matthew Lawson|   20|          165|      194|19.89|\n",
      "|        19|      2024-01-08|      Julia Lawson|   20|          124|      175|18.37|\n",
      "|        20|      2024-03-27|       Becky Scott|   20|          236|      187|30.61|\n",
      "|        20|      2024-04-30|        Rose Bruce|   20|          189|      183| 25.6|\n",
      "|        21|      2024-02-09|    Scott Mcdowell|   20|          142|      179| 20.1|\n",
      "+----------+----------------+------------------+-----+-------------+---------+-----+\n",
      "only showing top 20 rows\n",
      "\n"
     ]
    }
   ],
   "source": [
    "df_with_bmi = df_with_height.withColumn(\n",
    "    \"bmi\",\n",
    "    round((col(\"weight_pounds\") * 0.45359237) / ((col(\"height_cm\") / 100) ** 2), 2)\n",
    ")\n",
    "df_with_bmi.show(20)"
   ]
  },
  {
   "cell_type": "code",
   "execution_count": 31,
   "id": "98e01510-bf9b-4a6d-9d25-4d4e12f6b064",
   "metadata": {},
   "outputs": [],
   "source": [
    "df_with_bmi.coalesce(1).write.csv('sample_data/transformed_appointment_data', header=True, mode='overwrite')\n"
   ]
  },
  {
   "cell_type": "code",
   "execution_count": null,
   "id": "fd60a054-2ce3-4ab7-9bb0-5a33f80dbdfa",
   "metadata": {},
   "outputs": [],
   "source": []
  }
 ],
 "metadata": {
  "kernelspec": {
   "display_name": "Python 3 (ipykernel)",
   "language": "python",
   "name": "python3"
  },
  "language_info": {
   "codemirror_mode": {
    "name": "ipython",
    "version": 3
   },
   "file_extension": ".py",
   "mimetype": "text/x-python",
   "name": "python",
   "nbconvert_exporter": "python",
   "pygments_lexer": "ipython3",
   "version": "3.11.8"
  }
 },
 "nbformat": 4,
 "nbformat_minor": 5
}
